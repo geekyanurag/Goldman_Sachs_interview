{
 "cells": [
  {
   "cell_type": "markdown",
   "metadata": {},
   "source": [
    "# First non repeating character in a string"
   ]
  },
  {
   "cell_type": "code",
   "execution_count": 1,
   "metadata": {},
   "outputs": [
    {
     "name": "stdout",
     "output_type": "stream",
     "text": [
      "geeksforgeeks\n",
      "f\n"
     ]
    }
   ],
   "source": [
    "s = input()\n",
    "d = {}\n",
    "for i in s:\n",
    "    if i in d:\n",
    "        d[i]+=1\n",
    "    else:\n",
    "        d[i]=1\n",
    "for i in d:\n",
    "    if d[i]==1:\n",
    "        print(i)\n",
    "        break"
   ]
  },
  {
   "cell_type": "code",
   "execution_count": 9,
   "metadata": {},
   "outputs": [
    {
     "name": "stdout",
     "output_type": "stream",
     "text": [
      "Minimum number of trials in worst case with 2 eggs and 24 floors is 7\n"
     ]
    }
   ],
   "source": [
    "import sys  \n",
    "  \n",
    "# Function to get minimum number of trials  \n",
    "# needed in worst case with n eggs and k floors  \n",
    "def eggDrop(n, k): \n",
    "  \n",
    "    # If there are no floors, then no trials \n",
    "    # needed. OR if there is one floor, one \n",
    "    # trial needed. \n",
    "    if (k == 1 or k == 0): \n",
    "        return k \n",
    "  \n",
    "    # We need k trials for one egg  \n",
    "    # and k floors \n",
    "    if (n == 1): \n",
    "        return k \n",
    "  \n",
    "    min = sys.maxsize \n",
    "  \n",
    "    # Consider all droppings from 1st  \n",
    "    # floor to kth floor and return  \n",
    "    # the minimum of these values plus 1. \n",
    "    for x in range(1, k + 1): \n",
    "  \n",
    "        res = max(eggDrop(n - 1, x - 1),  \n",
    "                  eggDrop(n, k - x)) \n",
    "        if (res < min): \n",
    "            min = res \n",
    "  \n",
    "    return min + 1\n",
    "  \n",
    "# Driver Code \n",
    "if __name__ == \"__main__\": \n",
    "  \n",
    "    n = 2\n",
    "    k = 24\n",
    "    print(\"Minimum number of trials in worst case with\", \n",
    "           n, \"eggs and\", k, \"floors is\", eggDrop(n, k)) "
   ]
  },
  {
   "cell_type": "code",
   "execution_count": 15,
   "metadata": {},
   "outputs": [
    {
     "name": "stdout",
     "output_type": "stream",
     "text": [
      "Minimum number of trials in worst case with2eggs and 2 floors is 2\n"
     ]
    }
   ],
   "source": [
    "# A Dynamic Programming based Python Program for the Egg Dropping Puzzle \n",
    "INT_MAX = 32767\n",
    "  \n",
    "# Function to get minimum number of trials needed in worst \n",
    "# case with n eggs and k floors \n",
    "def eggDrop(n, k): \n",
    "    # A 2D table where entery eggFloor[i][j] will represent minimum \n",
    "    # number of trials needed for i eggs and j floors. \n",
    "    eggFloor = [[0 for x in range(k+1)] for x in range(n+1)] \n",
    "  \n",
    "    # We need one trial for one floor and0 trials for 0 floors \n",
    "    for i in range(1, n+1): \n",
    "        eggFloor[i][1] = 1\n",
    "        eggFloor[i][0] = 0\n",
    "  \n",
    "    # We always need j trials for one egg and j floors. \n",
    "    for j in range(1, k+1): \n",
    "        eggFloor[1][j] = j \n",
    "  \n",
    "    # Fill rest of the entries in table using optimal substructure \n",
    "    # property \n",
    "    for i in range(2, n+1): \n",
    "        for j in range(2, k+1): \n",
    "            eggFloor[i][j] = INT_MAX \n",
    "            for x in range(1, j+1): \n",
    "                res = 1 + max(eggFloor[i-1][x-1], eggFloor[i][j-x]) \n",
    "                if res < eggFloor[i][j]: \n",
    "                    eggFloor[i][j] = res \n",
    "  \n",
    "    # eggFloor[n][k] holds the result \n",
    "    return eggFloor[n][k] \n",
    "  \n",
    "# Driver program to test to pront printDups \n",
    "n = 2\n",
    "k = 2\n",
    "print(\"Minimum number of trials in worst case with\" + str(n) + \"eggs and \" \n",
    "       + str(k) + \" floors is \" + str(eggDrop(n, k))) \n",
    "  \n",
    "# This code is contributed by Bhavya Jain "
   ]
  },
  {
   "cell_type": "code",
   "execution_count": 23,
   "metadata": {},
   "outputs": [
    {
     "data": {
      "text/plain": [
       "8"
      ]
     },
     "execution_count": 23,
     "metadata": {},
     "output_type": "execute_result"
    }
   ],
   "source": [
    "int_max = 99999999\n",
    "def eggDrop(n,k):\n",
    "    eggFloor = [[0 for x in range(k+1)] for x in range(n+1)]\n",
    "    for i in range(1,n+1):\n",
    "        eggFloor[i][1] = 1\n",
    "    \n",
    "    for j in range(2,k+1):\n",
    "        eggFloor[1][j] = j\n",
    "    \n",
    "    for i in range(2, n+1):\n",
    "        for j in range(2, k+1):\n",
    "            eggFloor[i][j] = int_max\n",
    "            for x in range(1, j+1):\n",
    "                res = 1 + max(eggFloor[i-1][x-1], eggFloor[i][j-x])\n",
    "                if res < eggFloor[i][j]:\n",
    "                    eggFloor[i][j] = res\n",
    "                    \n",
    "    return eggFloor[n][k]\n",
    "n = 2\n",
    "k = 36\n",
    "eggDrop(n,k)"
   ]
  },
  {
   "cell_type": "code",
   "execution_count": 35,
   "metadata": {},
   "outputs": [
    {
     "data": {
      "text/plain": [
       "False"
      ]
     },
     "execution_count": 35,
     "metadata": {},
     "output_type": "execute_result"
    }
   ],
   "source": [
    "a1 = [1,2,3,6]\n",
    "a2 = [1,2,2,2]\n",
    "d1 = {}\n",
    "d2 = {}\n",
    "for i in a1:\n",
    "    if i in d1:\n",
    "        d1[i]+=1\n",
    "    else:\n",
    "        d1[i]=1\n",
    "        \n",
    "for i in a2:\n",
    "    if i in d2:\n",
    "        d2[i]+=1\n",
    "    else:\n",
    "        d2[i]=1\n",
    "\n",
    "d1 == d2"
   ]
  },
  {
   "cell_type": "code",
   "execution_count": null,
   "metadata": {},
   "outputs": [],
   "source": []
  },
  {
   "cell_type": "code",
   "execution_count": null,
   "metadata": {},
   "outputs": [],
   "source": []
  },
  {
   "cell_type": "code",
   "execution_count": null,
   "metadata": {},
   "outputs": [],
   "source": []
  },
  {
   "cell_type": "code",
   "execution_count": null,
   "metadata": {},
   "outputs": [],
   "source": []
  },
  {
   "cell_type": "code",
   "execution_count": null,
   "metadata": {},
   "outputs": [],
   "source": []
  },
  {
   "cell_type": "code",
   "execution_count": null,
   "metadata": {},
   "outputs": [],
   "source": []
  },
  {
   "cell_type": "code",
   "execution_count": null,
   "metadata": {},
   "outputs": [],
   "source": []
  },
  {
   "cell_type": "code",
   "execution_count": null,
   "metadata": {},
   "outputs": [],
   "source": []
  },
  {
   "cell_type": "code",
   "execution_count": 13,
   "metadata": {
    "scrolled": true
   },
   "outputs": [
    {
     "data": {
      "text/plain": [
       "[[0, 0, 0, 0, 0, 0, 0, 0, 0, 0, 0],\n",
       " [0, 1, 0, 0, 0, 0, 0, 0, 0, 0, 0],\n",
       " [0, 1, 0, 0, 0, 0, 0, 0, 0, 0, 0]]"
      ]
     },
     "execution_count": 13,
     "metadata": {},
     "output_type": "execute_result"
    }
   ],
   "source": []
  },
  {
   "cell_type": "code",
   "execution_count": null,
   "metadata": {},
   "outputs": [],
   "source": []
  }
 ],
 "metadata": {
  "kernelspec": {
   "display_name": "Python 3",
   "language": "python",
   "name": "python3"
  },
  "language_info": {
   "codemirror_mode": {
    "name": "ipython",
    "version": 3
   },
   "file_extension": ".py",
   "mimetype": "text/x-python",
   "name": "python",
   "nbconvert_exporter": "python",
   "pygments_lexer": "ipython3",
   "version": "3.7.3"
  }
 },
 "nbformat": 4,
 "nbformat_minor": 2
}
